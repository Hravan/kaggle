{
 "cells": [
  {
   "cell_type": "code",
   "execution_count": 1,
   "metadata": {},
   "outputs": [],
   "source": [
    "import ignite\n",
    "import pandas as pd\n",
    "import spacy\n",
    "import torch\n",
    "\n",
    "from collections import defaultdict\n",
    "from itertools import chain\n",
    "\n",
    "from ignite.engine import Events, create_supervised_trainer, create_supervised_evaluator\n",
    "from sklearn.model_selection import train_test_split\n",
    "from torch import nn\n",
    "from torch.nn import functional as F\n",
    "from torch.utils.data import Dataset, DataLoader\n",
    "from torchtext import data\n",
    "\n",
    "from quoraquestionpairs.data import get_dataset\n",
    "from quoraquestionpairs.neuralnets import RNNGRUSequential, RNNGRUParallel\n",
    "from quoraquestionpairs.training import train"
   ]
  },
  {
   "cell_type": "code",
   "execution_count": 2,
   "metadata": {},
   "outputs": [],
   "source": [
    "device = torch.device('cuda:0' if torch.cuda.is_available() else 'cpu')"
   ]
  },
  {
   "cell_type": "code",
   "execution_count": 3,
   "metadata": {},
   "outputs": [],
   "source": [
    "nlp = spacy.load('en')"
   ]
  },
  {
   "cell_type": "code",
   "execution_count": 4,
   "metadata": {},
   "outputs": [],
   "source": [
    "question = data.Field(tokenize='spacy',\n",
    "                      lower=True,\n",
    "                      pad_first=True)"
   ]
  },
  {
   "cell_type": "code",
   "execution_count": 5,
   "metadata": {},
   "outputs": [],
   "source": [
    "data_df = get_dataset('data/train.csv', question)"
   ]
  },
  {
   "cell_type": "code",
   "execution_count": 6,
   "metadata": {},
   "outputs": [],
   "source": [
    "train_ds, val_ds = data_df.split(0.95, stratified=True, strata_field='is_duplicate')"
   ]
  },
  {
   "cell_type": "code",
   "execution_count": 7,
   "metadata": {},
   "outputs": [],
   "source": [
    "question.build_vocab(train_ds,\n",
    "                     min_freq=50)"
   ]
  },
  {
   "cell_type": "code",
   "execution_count": 9,
   "metadata": {},
   "outputs": [],
   "source": [
    "train_iter = data.Iterator(train_ds,\n",
    "                           batch_size=512,\n",
    "                           repeat=False,\n",
    "                           shuffle=True,\n",
    "                           device=device)\n",
    "    \n",
    "val_iter = data.Iterator(val_ds,\n",
    "                         batch_size=512,\n",
    "                         device=device)"
   ]
  },
  {
   "cell_type": "code",
   "execution_count": 10,
   "metadata": {},
   "outputs": [],
   "source": [
    "def prepare_batch(batch, device, non_blocking):\n",
    "    (x1, x2), y = batch\n",
    "    x1 = x1.to(device)\n",
    "    x2 = x2.to(device)\n",
    "    y = y.type(torch.cuda.FloatTensor).to(device)\n",
    "    return (x1, x2), y"
   ]
  },
  {
   "cell_type": "code",
   "execution_count": 25,
   "metadata": {},
   "outputs": [],
   "source": [
    "rnn = RNNGRUParallel(len(question.vocab), 300, 32, 1).to(device)\n",
    "criterion = nn.BCELoss()\n",
    "optimizer = torch.optim.Adam(rnn.parameters(), lr=0.01)"
   ]
  },
  {
   "cell_type": "code",
   "execution_count": 26,
   "metadata": {},
   "outputs": [],
   "source": [
    "trainer = create_supervised_trainer(rnn, optimizer, criterion, prepare_batch=prepare_batch)\n",
    "evaluator = create_supervised_evaluator(rnn, metrics={'accuracy': ignite.metrics.Accuracy(),\n",
    "                                                      'loss': ignite.metrics.Loss(criterion)},\n",
    "                                        prepare_batch=prepare_batch)"
   ]
  },
  {
   "cell_type": "code",
   "execution_count": 27,
   "metadata": {},
   "outputs": [],
   "source": [
    "@trainer.on(Events.EPOCH_COMPLETED)\n",
    "def log_training_results(trainer):\n",
    "    evaluator.run(train_iter)\n",
    "    metrics = evaluator.state.metrics\n",
    "    print(\"Train Results - Epoch: {}  Avg accuracy: {:.2f} Avg loss: {:.2f}\"\n",
    "          .format(trainer.state.epoch, metrics['accuracy'], metrics['loss']))\n",
    "\n",
    "@trainer.on(Events.EPOCH_COMPLETED)\n",
    "def log_validation_results(trainer):\n",
    "    evaluator.run(val_iter)\n",
    "    metrics = evaluator.state.metrics\n",
    "    print(\"Valid Results - Epoch: {}  Avg accuracy: {:.2f} Avg loss: {:.2f}\"\n",
    "          .format(trainer.state.epoch, metrics['accuracy'], metrics['loss']))"
   ]
  },
  {
   "cell_type": "code",
   "execution_count": 42,
   "metadata": {},
   "outputs": [],
   "source": [
    "(x1, x2), y = next(iter(train_iter))"
   ]
  },
  {
   "cell_type": "code",
   "execution_count": 45,
   "metadata": {},
   "outputs": [
    {
     "data": {
      "text/plain": [
       "torch.Size([94])"
      ]
     },
     "execution_count": 45,
     "metadata": {},
     "output_type": "execute_result"
    }
   ],
   "source": [
    "y.size()"
   ]
  },
  {
   "cell_type": "code",
   "execution_count": 44,
   "metadata": {},
   "outputs": [
    {
     "data": {
      "text/plain": [
       "torch.Size([94])"
      ]
     },
     "execution_count": 44,
     "metadata": {},
     "output_type": "execute_result"
    }
   ],
   "source": [
    "rnn((x1, x2)).size()"
   ]
  },
  {
   "cell_type": "code",
   "execution_count": 28,
   "metadata": {},
   "outputs": [
    {
     "name": "stdout",
     "output_type": "stream",
     "text": [
      "Train Results - Epoch: 1  Avg accuracy: 0.78 Avg loss: 0.45\n",
      "Valid Results - Epoch: 1  Avg accuracy: 0.77 Avg loss: 0.49\n",
      "Train Results - Epoch: 2  Avg accuracy: 0.79 Avg loss: 0.44\n",
      "Valid Results - Epoch: 2  Avg accuracy: 0.77 Avg loss: 0.47\n",
      "Train Results - Epoch: 3  Avg accuracy: 0.79 Avg loss: 0.43\n",
      "Valid Results - Epoch: 3  Avg accuracy: 0.77 Avg loss: 0.48\n",
      "Train Results - Epoch: 4  Avg accuracy: 0.80 Avg loss: 0.43\n",
      "Valid Results - Epoch: 4  Avg accuracy: 0.77 Avg loss: 0.47\n",
      "Train Results - Epoch: 5  Avg accuracy: 0.80 Avg loss: 0.43\n",
      "Valid Results - Epoch: 5  Avg accuracy: 0.77 Avg loss: 0.48\n",
      "Train Results - Epoch: 6  Avg accuracy: 0.80 Avg loss: 0.43\n",
      "Valid Results - Epoch: 6  Avg accuracy: 0.77 Avg loss: 0.48\n",
      "Train Results - Epoch: 7  Avg accuracy: 0.80 Avg loss: 0.42\n",
      "Valid Results - Epoch: 7  Avg accuracy: 0.77 Avg loss: 0.47\n",
      "Train Results - Epoch: 8  Avg accuracy: 0.80 Avg loss: 0.42\n",
      "Valid Results - Epoch: 8  Avg accuracy: 0.78 Avg loss: 0.47\n",
      "Train Results - Epoch: 9  Avg accuracy: 0.80 Avg loss: 0.43\n",
      "Valid Results - Epoch: 9  Avg accuracy: 0.77 Avg loss: 0.48\n",
      "Train Results - Epoch: 10  Avg accuracy: 0.79 Avg loss: 0.43\n",
      "Valid Results - Epoch: 10  Avg accuracy: 0.77 Avg loss: 0.48\n"
     ]
    },
    {
     "data": {
      "text/plain": [
       "<ignite.engine.engine.State at 0x7fa5ca0c4b38>"
      ]
     },
     "execution_count": 28,
     "metadata": {},
     "output_type": "execute_result"
    }
   ],
   "source": [
    "trainer.run(train_iter, max_epochs=10)"
   ]
  }
 ],
 "metadata": {
  "kernelspec": {
   "display_name": "Python 3",
   "language": "python",
   "name": "python3"
  },
  "language_info": {
   "codemirror_mode": {
    "name": "ipython",
    "version": 3
   },
   "file_extension": ".py",
   "mimetype": "text/x-python",
   "name": "python",
   "nbconvert_exporter": "python",
   "pygments_lexer": "ipython3",
   "version": "3.6.8"
  }
 },
 "nbformat": 4,
 "nbformat_minor": 2
}
